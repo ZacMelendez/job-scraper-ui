{
 "cells": [
  {
   "cell_type": "code",
   "execution_count": 2,
   "metadata": {},
   "outputs": [],
   "source": [
    "import asyncio\n",
    "import ssl\n",
    "from bs4 import BeautifulSoup\n",
    "from typing import List, Any\n",
    "import logging\n",
    "import requests"
   ]
  },
  {
   "cell_type": "code",
   "execution_count": 18,
   "metadata": {},
   "outputs": [],
   "source": [
    "logger = logging.getLogger(__name__)\n",
    "\n",
    "page_count: int = 25\n",
    "URL = \"https://careers.paramount.com/tile-search-results/?q=developer&startrow={start_row}&_=1678893069634\"\n",
    "\n",
    "\n",
    "jobs: List[Any] = []\n",
    "response = requests.get(URL.format(start_row=0 * page_count))\n",
    "content = response.text\n",
    "soup = BeautifulSoup(content, features=\"html.parser\")\n",
    "jobs_search = soup.select(\"li.job-tile\")\n",
    "if jobs_search:\n",
    "    for job in jobs_search:\n",
    "        try:\n",
    "            title_search = job.select(\"a.jobTitle-link\")\n",
    "            title = \"\"\n",
    "            job_id = \"\"\n",
    "            href = \"\"\n",
    "            location = \"\"\n",
    "\n",
    "            if len(title_search):\n",
    "                job_tile = title_search[0]\n",
    "\n",
    "                title = job_tile.text.strip()\n",
    "                job_id = job_tile.attrs[\"data-focus-tile\"].split(\"-\")[-1]\n",
    "                href = job_tile.attrs[\"href\"]\n",
    "                location_search = job.select(f\"div#job-{job_id}-tablet-section-location-value\")\n",
    "\n",
    "                if len(location_search):\n",
    "                    location_item = location_search[0]\n",
    "                    location = location_item.text.strip()\n",
    "\n",
    "            if title != \"\":\n",
    "                jobs.append(\n",
    "                    {\n",
    "                        \"company\": \"Paramount\",\n",
    "                        \"job_id\": job_id,\n",
    "                        \"title\": title,\n",
    "                        \"url\": f\"https://careers.paramount.com{href}\",\n",
    "                        \"location\": location,\n",
    "                    }\n",
    "                )\n",
    "        except Exception as e:\n",
    "            print(job, e)\n"
   ]
  },
  {
   "cell_type": "code",
   "execution_count": 19,
   "metadata": {},
   "outputs": [
    {
     "data": {
      "text/plain": [
       "'New York, NY, US, 10036'"
      ]
     },
     "execution_count": 19,
     "metadata": {},
     "output_type": "execute_result"
    }
   ],
   "source": [
    "jobs[0]['location']"
   ]
  }
 ],
 "metadata": {
  "kernelspec": {
   "display_name": "venv",
   "language": "python",
   "name": "python3"
  },
  "language_info": {
   "codemirror_mode": {
    "name": "ipython",
    "version": 3
   },
   "file_extension": ".py",
   "mimetype": "text/x-python",
   "name": "python",
   "nbconvert_exporter": "python",
   "pygments_lexer": "ipython3",
   "version": "3.9.13"
  },
  "orig_nbformat": 4
 },
 "nbformat": 4,
 "nbformat_minor": 2
}
